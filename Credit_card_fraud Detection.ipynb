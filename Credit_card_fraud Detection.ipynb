{
 "cells": [
  {
   "cell_type": "code",
   "execution_count": 1,
   "id": "2dfdc678",
   "metadata": {},
   "outputs": [],
   "source": [
    "import numpy as np\n",
    "import pandas as pd\n",
    "\n",
    "# visualization\n",
    "import seaborn as sns\n",
    "import matplotlib.pyplot as plt\n",
    "%matplotlib inline\n",
    "from sklearn.model_selection import train_test_split\n",
    "from sklearn.preprocessing import LabelEncoder,StandardScaler\n",
    "\n",
    "#machine learning\n",
    "from sklearn.ensemble import RandomForestClassifier\n",
    "from sklearn.linear_model import LogisticRegression\n",
    "from sklearn.svm import SVC, LinearSVC\n",
    "from sklearn.metrics import confusion_matrix\n",
    "from sklearn.metrics import accuracy_score, precision_score, recall_score, f1_score, roc_auc_score"
   ]
  },
  {
   "cell_type": "code",
   "execution_count": 2,
   "id": "d2faa34c",
   "metadata": {},
   "outputs": [],
   "source": [
    "df = pd.read_csv(\"C:/Users/kavur/Downloads/credit_history.csv\")"
   ]
  },
  {
   "cell_type": "code",
   "execution_count": 3,
   "id": "9f2b4e52",
   "metadata": {},
   "outputs": [
    {
     "data": {
      "text/html": [
       "<div>\n",
       "<style scoped>\n",
       "    .dataframe tbody tr th:only-of-type {\n",
       "        vertical-align: middle;\n",
       "    }\n",
       "\n",
       "    .dataframe tbody tr th {\n",
       "        vertical-align: top;\n",
       "    }\n",
       "\n",
       "    .dataframe thead th {\n",
       "        text-align: right;\n",
       "    }\n",
       "</style>\n",
       "<table border=\"1\" class=\"dataframe\">\n",
       "  <thead>\n",
       "    <tr style=\"text-align: right;\">\n",
       "      <th></th>\n",
       "      <th>default</th>\n",
       "      <th>amount</th>\n",
       "      <th>grade</th>\n",
       "      <th>years</th>\n",
       "      <th>ownership</th>\n",
       "      <th>income</th>\n",
       "      <th>age</th>\n",
       "    </tr>\n",
       "  </thead>\n",
       "  <tbody>\n",
       "    <tr>\n",
       "      <th>0</th>\n",
       "      <td>0</td>\n",
       "      <td>1000</td>\n",
       "      <td>B</td>\n",
       "      <td>2.0</td>\n",
       "      <td>RENT</td>\n",
       "      <td>19200.0</td>\n",
       "      <td>24</td>\n",
       "    </tr>\n",
       "    <tr>\n",
       "      <th>1</th>\n",
       "      <td>1</td>\n",
       "      <td>6500</td>\n",
       "      <td>A</td>\n",
       "      <td>2.0</td>\n",
       "      <td>MORTGAGE</td>\n",
       "      <td>66000.0</td>\n",
       "      <td>28</td>\n",
       "    </tr>\n",
       "    <tr>\n",
       "      <th>2</th>\n",
       "      <td>0</td>\n",
       "      <td>2400</td>\n",
       "      <td>A</td>\n",
       "      <td>2.0</td>\n",
       "      <td>RENT</td>\n",
       "      <td>60000.0</td>\n",
       "      <td>36</td>\n",
       "    </tr>\n",
       "    <tr>\n",
       "      <th>3</th>\n",
       "      <td>0</td>\n",
       "      <td>10000</td>\n",
       "      <td>C</td>\n",
       "      <td>3.0</td>\n",
       "      <td>RENT</td>\n",
       "      <td>62000.0</td>\n",
       "      <td>24</td>\n",
       "    </tr>\n",
       "    <tr>\n",
       "      <th>4</th>\n",
       "      <td>1</td>\n",
       "      <td>4000</td>\n",
       "      <td>C</td>\n",
       "      <td>2.0</td>\n",
       "      <td>RENT</td>\n",
       "      <td>20000.0</td>\n",
       "      <td>28</td>\n",
       "    </tr>\n",
       "  </tbody>\n",
       "</table>\n",
       "</div>"
      ],
      "text/plain": [
       "   default  amount grade  years ownership   income  age\n",
       "0        0    1000     B    2.0      RENT  19200.0   24\n",
       "1        1    6500     A    2.0  MORTGAGE  66000.0   28\n",
       "2        0    2400     A    2.0      RENT  60000.0   36\n",
       "3        0   10000     C    3.0      RENT  62000.0   24\n",
       "4        1    4000     C    2.0      RENT  20000.0   28"
      ]
     },
     "execution_count": 3,
     "metadata": {},
     "output_type": "execute_result"
    }
   ],
   "source": [
    "df.head()"
   ]
  },
  {
   "cell_type": "code",
   "execution_count": 4,
   "id": "7ea4f3bc",
   "metadata": {},
   "outputs": [],
   "source": [
    "pd.options.display.max_columns=None"
   ]
  },
  {
   "cell_type": "code",
   "execution_count": 5,
   "id": "d98da807",
   "metadata": {},
   "outputs": [
    {
     "data": {
      "text/html": [
       "<div>\n",
       "<style scoped>\n",
       "    .dataframe tbody tr th:only-of-type {\n",
       "        vertical-align: middle;\n",
       "    }\n",
       "\n",
       "    .dataframe tbody tr th {\n",
       "        vertical-align: top;\n",
       "    }\n",
       "\n",
       "    .dataframe thead th {\n",
       "        text-align: right;\n",
       "    }\n",
       "</style>\n",
       "<table border=\"1\" class=\"dataframe\">\n",
       "  <thead>\n",
       "    <tr style=\"text-align: right;\">\n",
       "      <th></th>\n",
       "      <th>default</th>\n",
       "      <th>amount</th>\n",
       "      <th>years</th>\n",
       "      <th>income</th>\n",
       "      <th>age</th>\n",
       "    </tr>\n",
       "  </thead>\n",
       "  <tbody>\n",
       "    <tr>\n",
       "      <th>count</th>\n",
       "      <td>7727.000000</td>\n",
       "      <td>7727.000000</td>\n",
       "      <td>7448.000000</td>\n",
       "      <td>7.727000e+03</td>\n",
       "      <td>7727.000000</td>\n",
       "    </tr>\n",
       "    <tr>\n",
       "      <th>mean</th>\n",
       "      <td>0.478452</td>\n",
       "      <td>9453.345412</td>\n",
       "      <td>6.086332</td>\n",
       "      <td>6.337197e+04</td>\n",
       "      <td>27.542125</td>\n",
       "    </tr>\n",
       "    <tr>\n",
       "      <th>std</th>\n",
       "      <td>0.499568</td>\n",
       "      <td>6298.595800</td>\n",
       "      <td>6.700758</td>\n",
       "      <td>4.687195e+04</td>\n",
       "      <td>6.132121</td>\n",
       "    </tr>\n",
       "    <tr>\n",
       "      <th>min</th>\n",
       "      <td>0.000000</td>\n",
       "      <td>500.000000</td>\n",
       "      <td>0.000000</td>\n",
       "      <td>4.000000e+03</td>\n",
       "      <td>20.000000</td>\n",
       "    </tr>\n",
       "    <tr>\n",
       "      <th>25%</th>\n",
       "      <td>0.000000</td>\n",
       "      <td>5000.000000</td>\n",
       "      <td>2.000000</td>\n",
       "      <td>3.700000e+04</td>\n",
       "      <td>23.000000</td>\n",
       "    </tr>\n",
       "    <tr>\n",
       "      <th>50%</th>\n",
       "      <td>0.000000</td>\n",
       "      <td>8000.000000</td>\n",
       "      <td>4.000000</td>\n",
       "      <td>5.400000e+04</td>\n",
       "      <td>26.000000</td>\n",
       "    </tr>\n",
       "    <tr>\n",
       "      <th>75%</th>\n",
       "      <td>1.000000</td>\n",
       "      <td>12000.000000</td>\n",
       "      <td>8.000000</td>\n",
       "      <td>7.679650e+04</td>\n",
       "      <td>30.000000</td>\n",
       "    </tr>\n",
       "    <tr>\n",
       "      <th>max</th>\n",
       "      <td>1.000000</td>\n",
       "      <td>35000.000000</td>\n",
       "      <td>62.000000</td>\n",
       "      <td>1.200000e+06</td>\n",
       "      <td>94.000000</td>\n",
       "    </tr>\n",
       "  </tbody>\n",
       "</table>\n",
       "</div>"
      ],
      "text/plain": [
       "           default        amount        years        income          age\n",
       "count  7727.000000   7727.000000  7448.000000  7.727000e+03  7727.000000\n",
       "mean      0.478452   9453.345412     6.086332  6.337197e+04    27.542125\n",
       "std       0.499568   6298.595800     6.700758  4.687195e+04     6.132121\n",
       "min       0.000000    500.000000     0.000000  4.000000e+03    20.000000\n",
       "25%       0.000000   5000.000000     2.000000  3.700000e+04    23.000000\n",
       "50%       0.000000   8000.000000     4.000000  5.400000e+04    26.000000\n",
       "75%       1.000000  12000.000000     8.000000  7.679650e+04    30.000000\n",
       "max       1.000000  35000.000000    62.000000  1.200000e+06    94.000000"
      ]
     },
     "execution_count": 5,
     "metadata": {},
     "output_type": "execute_result"
    }
   ],
   "source": [
    "df.describe()"
   ]
  },
  {
   "cell_type": "code",
   "execution_count": 6,
   "id": "779fb2af",
   "metadata": {},
   "outputs": [
    {
     "data": {
      "text/plain": [
       "(7727, 7)"
      ]
     },
     "execution_count": 6,
     "metadata": {},
     "output_type": "execute_result"
    }
   ],
   "source": [
    "df.shape"
   ]
  },
  {
   "cell_type": "code",
   "execution_count": 7,
   "id": "1422ccd2",
   "metadata": {},
   "outputs": [
    {
     "name": "stdout",
     "output_type": "stream",
     "text": [
      "Number of Rows 7727\n",
      "Number of Rows 7\n"
     ]
    }
   ],
   "source": [
    "print(\"Number of Rows\",df.shape[0])\n",
    "print(\"Number of Rows\",df.shape[1])"
   ]
  },
  {
   "cell_type": "code",
   "execution_count": 8,
   "id": "f58caaca",
   "metadata": {},
   "outputs": [
    {
     "name": "stdout",
     "output_type": "stream",
     "text": [
      "<class 'pandas.core.frame.DataFrame'>\n",
      "RangeIndex: 7727 entries, 0 to 7726\n",
      "Data columns (total 7 columns):\n",
      " #   Column     Non-Null Count  Dtype  \n",
      "---  ------     --------------  -----  \n",
      " 0   default    7727 non-null   int64  \n",
      " 1   amount     7727 non-null   int64  \n",
      " 2   grade      7727 non-null   object \n",
      " 3   years      7448 non-null   float64\n",
      " 4   ownership  7727 non-null   object \n",
      " 5   income     7727 non-null   float64\n",
      " 6   age        7727 non-null   int64  \n",
      "dtypes: float64(2), int64(3), object(2)\n",
      "memory usage: 422.7+ KB\n"
     ]
    }
   ],
   "source": [
    "df.info()"
   ]
  },
  {
   "cell_type": "code",
   "execution_count": 9,
   "id": "1188daab",
   "metadata": {},
   "outputs": [
    {
     "data": {
      "text/plain": [
       "(7332, 7)"
      ]
     },
     "execution_count": 9,
     "metadata": {},
     "output_type": "execute_result"
    }
   ],
   "source": [
    "df.duplicated().any()\n",
    "df  = df.drop_duplicates()\n",
    "df.shape"
   ]
  },
  {
   "cell_type": "code",
   "execution_count": 10,
   "id": "64c368a5",
   "metadata": {},
   "outputs": [
    {
     "data": {
      "text/plain": [
       "default        0\n",
       "amount         0\n",
       "grade          0\n",
       "years        270\n",
       "ownership      0\n",
       "income         0\n",
       "age            0\n",
       "dtype: int64"
      ]
     },
     "execution_count": 10,
     "metadata": {},
     "output_type": "execute_result"
    }
   ],
   "source": [
    "df.isnull().sum()"
   ]
  },
  {
   "cell_type": "code",
   "execution_count": 11,
   "id": "accd7dd0",
   "metadata": {},
   "outputs": [
    {
     "name": "stdout",
     "output_type": "stream",
     "text": [
      "years\n",
      "False    7062\n",
      "True      270\n",
      "Name: count, dtype: int64\n"
     ]
    }
   ],
   "source": [
    "missing_data = df.isnull()\n",
    "print(missing_data['years'].value_counts())"
   ]
  },
  {
   "cell_type": "code",
   "execution_count": 12,
   "id": "cc5af1ec",
   "metadata": {},
   "outputs": [],
   "source": [
    "avg = df['years'].astype(\"float\").min()\n",
    "df['years'].replace(np.nan, avg,inplace =True)"
   ]
  },
  {
   "cell_type": "code",
   "execution_count": 13,
   "id": "5e74cbca",
   "metadata": {},
   "outputs": [
    {
     "data": {
      "text/plain": [
       "default      0\n",
       "amount       0\n",
       "grade        0\n",
       "years        0\n",
       "ownership    0\n",
       "income       0\n",
       "age          0\n",
       "dtype: int64"
      ]
     },
     "execution_count": 13,
     "metadata": {},
     "output_type": "execute_result"
    }
   ],
   "source": [
    "df.isnull().sum()"
   ]
  },
  {
   "cell_type": "code",
   "execution_count": 14,
   "id": "3dc0b796",
   "metadata": {},
   "outputs": [
    {
     "data": {
      "text/plain": [
       "default\n",
       "1    3684\n",
       "0    3648\n",
       "Name: count, dtype: int64"
      ]
     },
     "execution_count": 14,
     "metadata": {},
     "output_type": "execute_result"
    }
   ],
   "source": [
    "df['default'].value_counts()"
   ]
  },
  {
   "cell_type": "code",
   "execution_count": 15,
   "id": "330ff3ac",
   "metadata": {},
   "outputs": [
    {
     "data": {
      "image/png": "[encoded data removed]",
      "text/plain": [
       "<Figure size 640x480 with 1 Axes>"
      ]
     },
     "metadata": {},
     "output_type": "display_data"
    }
   ],
   "source": [
    "import seaborn as sns\n",
    "import matplotlib.pyplot as plt\n",
    "\n",
    "# Check the distribution of the target variable\n",
    "sns.countplot(x='default', data=df)\n",
    "plt.show()"
   ]
  },
  {
   "cell_type": "code",
   "execution_count": 16,
   "id": "c75a4ba1",
   "metadata": {},
   "outputs": [
    {
     "data": {
      "text/plain": [
       "0       1\n",
       "1       0\n",
       "2       0\n",
       "3       2\n",
       "4       2\n",
       "       ..\n",
       "7722    2\n",
       "7723    1\n",
       "7724    1\n",
       "7725    1\n",
       "7726    2\n",
       "Name: grade, Length: 7332, dtype: int32"
      ]
     },
     "execution_count": 16,
     "metadata": {},
     "output_type": "execute_result"
    }
   ],
   "source": [
    "from sklearn import preprocessing\n",
    "label_encoder = preprocessing.LabelEncoder()\n",
    "df['grade']= label_encoder.fit_transform(df['grade'])\n",
    "df['grade']"
   ]
  },
  {
   "cell_type": "code",
   "execution_count": 17,
   "id": "3ed4c0e4",
   "metadata": {},
   "outputs": [
    {
     "data": {
      "text/plain": [
       "0       3\n",
       "1       0\n",
       "2       3\n",
       "3       3\n",
       "4       3\n",
       "       ..\n",
       "7722    3\n",
       "7723    3\n",
       "7724    3\n",
       "7725    3\n",
       "7726    3\n",
       "Name: ownership, Length: 7332, dtype: int32"
      ]
     },
     "execution_count": 17,
     "metadata": {},
     "output_type": "execute_result"
    }
   ],
   "source": [
    "label_encoder = preprocessing.LabelEncoder()\n",
    "df['ownership']= label_encoder.fit_transform(df['ownership'])\n",
    "df['ownership']"
   ]
  },
  {
   "cell_type": "code",
   "execution_count": 18,
   "id": "28f5ef8f",
   "metadata": {},
   "outputs": [
    {
     "data": {
      "text/html": [
       "<div>\n",
       "<style scoped>\n",
       "    .dataframe tbody tr th:only-of-type {\n",
       "        vertical-align: middle;\n",
       "    }\n",
       "\n",
       "    .dataframe tbody tr th {\n",
       "        vertical-align: top;\n",
       "    }\n",
       "\n",
       "    .dataframe thead th {\n",
       "        text-align: right;\n",
       "    }\n",
       "</style>\n",
       "<table border=\"1\" class=\"dataframe\">\n",
       "  <thead>\n",
       "    <tr style=\"text-align: right;\">\n",
       "      <th></th>\n",
       "      <th>default</th>\n",
       "      <th>amount</th>\n",
       "      <th>grade</th>\n",
       "      <th>years</th>\n",
       "      <th>ownership</th>\n",
       "      <th>income</th>\n",
       "      <th>age</th>\n",
       "    </tr>\n",
       "  </thead>\n",
       "  <tbody>\n",
       "    <tr>\n",
       "      <th>count</th>\n",
       "      <td>7332.000000</td>\n",
       "      <td>7332.000000</td>\n",
       "      <td>7332.000000</td>\n",
       "      <td>7332.000000</td>\n",
       "      <td>7332.000000</td>\n",
       "      <td>7.332000e+03</td>\n",
       "      <td>7332.000000</td>\n",
       "    </tr>\n",
       "    <tr>\n",
       "      <th>mean</th>\n",
       "      <td>0.502455</td>\n",
       "      <td>9455.070240</td>\n",
       "      <td>1.417076</td>\n",
       "      <td>5.859793</td>\n",
       "      <td>1.746863</td>\n",
       "      <td>6.308700e+04</td>\n",
       "      <td>27.563557</td>\n",
       "    </tr>\n",
       "    <tr>\n",
       "      <th>std</th>\n",
       "      <td>0.500028</td>\n",
       "      <td>6300.807033</td>\n",
       "      <td>1.230527</td>\n",
       "      <td>6.705406</td>\n",
       "      <td>1.420286</td>\n",
       "      <td>4.701674e+04</td>\n",
       "      <td>6.165381</td>\n",
       "    </tr>\n",
       "    <tr>\n",
       "      <th>min</th>\n",
       "      <td>0.000000</td>\n",
       "      <td>500.000000</td>\n",
       "      <td>0.000000</td>\n",
       "      <td>0.000000</td>\n",
       "      <td>0.000000</td>\n",
       "      <td>4.000000e+03</td>\n",
       "      <td>20.000000</td>\n",
       "    </tr>\n",
       "    <tr>\n",
       "      <th>25%</th>\n",
       "      <td>0.000000</td>\n",
       "      <td>5000.000000</td>\n",
       "      <td>0.000000</td>\n",
       "      <td>1.000000</td>\n",
       "      <td>0.000000</td>\n",
       "      <td>3.650000e+04</td>\n",
       "      <td>23.000000</td>\n",
       "    </tr>\n",
       "    <tr>\n",
       "      <th>50%</th>\n",
       "      <td>1.000000</td>\n",
       "      <td>8000.000000</td>\n",
       "      <td>1.000000</td>\n",
       "      <td>4.000000</td>\n",
       "      <td>3.000000</td>\n",
       "      <td>5.400000e+04</td>\n",
       "      <td>26.000000</td>\n",
       "    </tr>\n",
       "    <tr>\n",
       "      <th>75%</th>\n",
       "      <td>1.000000</td>\n",
       "      <td>12000.000000</td>\n",
       "      <td>2.000000</td>\n",
       "      <td>8.000000</td>\n",
       "      <td>3.000000</td>\n",
       "      <td>7.570275e+04</td>\n",
       "      <td>30.000000</td>\n",
       "    </tr>\n",
       "    <tr>\n",
       "      <th>max</th>\n",
       "      <td>1.000000</td>\n",
       "      <td>35000.000000</td>\n",
       "      <td>6.000000</td>\n",
       "      <td>62.000000</td>\n",
       "      <td>3.000000</td>\n",
       "      <td>1.200000e+06</td>\n",
       "      <td>94.000000</td>\n",
       "    </tr>\n",
       "  </tbody>\n",
       "</table>\n",
       "</div>"
      ],
      "text/plain": [
       "           default        amount        grade        years    ownership  \\\n",
       "count  7332.000000   7332.000000  7332.000000  7332.000000  7332.000000   \n",
       "mean      0.502455   9455.070240     1.417076     5.859793     1.746863   \n",
       "std       0.500028   6300.807033     1.230527     6.705406     1.420286   \n",
       "min       0.000000    500.000000     0.000000     0.000000     0.000000   \n",
       "25%       0.000000   5000.000000     0.000000     1.000000     0.000000   \n",
       "50%       1.000000   8000.000000     1.000000     4.000000     3.000000   \n",
       "75%       1.000000  12000.000000     2.000000     8.000000     3.000000   \n",
       "max       1.000000  35000.000000     6.000000    62.000000     3.000000   \n",
       "\n",
       "             income          age  \n",
       "count  7.332000e+03  7332.000000  \n",
       "mean   6.308700e+04    27.563557  \n",
       "std    4.701674e+04     6.165381  \n",
       "min    4.000000e+03    20.000000  \n",
       "25%    3.650000e+04    23.000000  \n",
       "50%    5.400000e+04    26.000000  \n",
       "75%    7.570275e+04    30.000000  \n",
       "max    1.200000e+06    94.000000  "
      ]
     },
     "execution_count": 18,
     "metadata": {},
     "output_type": "execute_result"
    }
   ],
   "source": [
    "df.describe()"
   ]
  },
  {
   "cell_type": "code",
   "execution_count": 19,
   "id": "fcff3145",
   "metadata": {},
   "outputs": [
    {
     "data": {
      "text/html": [
       "<div>\n",
       "<style scoped>\n",
       "    .dataframe tbody tr th:only-of-type {\n",
       "        vertical-align: middle;\n",
       "    }\n",
       "\n",
       "    .dataframe tbody tr th {\n",
       "        vertical-align: top;\n",
       "    }\n",
       "\n",
       "    .dataframe thead th {\n",
       "        text-align: right;\n",
       "    }\n",
       "</style>\n",
       "<table border=\"1\" class=\"dataframe\">\n",
       "  <thead>\n",
       "    <tr style=\"text-align: right;\">\n",
       "      <th></th>\n",
       "      <th>amount</th>\n",
       "      <th>grade</th>\n",
       "      <th>years</th>\n",
       "      <th>ownership</th>\n",
       "      <th>income</th>\n",
       "      <th>age</th>\n",
       "    </tr>\n",
       "    <tr>\n",
       "      <th>default</th>\n",
       "      <th></th>\n",
       "      <th></th>\n",
       "      <th></th>\n",
       "      <th></th>\n",
       "      <th></th>\n",
       "      <th></th>\n",
       "    </tr>\n",
       "  </thead>\n",
       "  <tbody>\n",
       "    <tr>\n",
       "      <th>0</th>\n",
       "      <td>9463.260691</td>\n",
       "      <td>1.067434</td>\n",
       "      <td>5.920779</td>\n",
       "      <td>1.666118</td>\n",
       "      <td>66803.895299</td>\n",
       "      <td>27.690515</td>\n",
       "    </tr>\n",
       "    <tr>\n",
       "      <th>1</th>\n",
       "      <td>9446.959826</td>\n",
       "      <td>1.763301</td>\n",
       "      <td>5.799403</td>\n",
       "      <td>1.826819</td>\n",
       "      <td>59406.417606</td>\n",
       "      <td>27.437839</td>\n",
       "    </tr>\n",
       "  </tbody>\n",
       "</table>\n",
       "</div>"
      ],
      "text/plain": [
       "              amount     grade     years  ownership        income        age\n",
       "default                                                                     \n",
       "0        9463.260691  1.067434  5.920779   1.666118  66803.895299  27.690515\n",
       "1        9446.959826  1.763301  5.799403   1.826819  59406.417606  27.437839"
      ]
     },
     "execution_count": 19,
     "metadata": {},
     "output_type": "execute_result"
    }
   ],
   "source": [
    "df.groupby('default').mean()"
   ]
  },
  {
   "cell_type": "code",
   "execution_count": 20,
   "id": "ec7fdc17",
   "metadata": {},
   "outputs": [
    {
     "name": "stdout",
     "output_type": "stream",
     "text": [
      "      amount  grade  years  ownership   income  age\n",
      "0       1000      1    2.0          3  19200.0   24\n",
      "1       6500      0    2.0          0  66000.0   28\n",
      "2       2400      0    2.0          3  60000.0   36\n",
      "3      10000      2    3.0          3  62000.0   24\n",
      "4       4000      2    2.0          3  20000.0   28\n",
      "...      ...    ...    ...        ...      ...  ...\n",
      "7722    6000      2    6.0          3  47628.0   24\n",
      "7723    1500      1    5.0          3  18000.0   21\n",
      "7724    4100      1   18.0          3  57000.0   26\n",
      "7725    2000      1    0.0          3  25000.0   25\n",
      "7726    6000      2    0.0          3  45000.0   25\n",
      "\n",
      "[7332 rows x 6 columns]\n",
      "0       0\n",
      "1       1\n",
      "2       0\n",
      "3       0\n",
      "4       1\n",
      "       ..\n",
      "7722    1\n",
      "7723    1\n",
      "7724    1\n",
      "7725    1\n",
      "7726    1\n",
      "Name: default, Length: 7332, dtype: int64\n"
     ]
    }
   ],
   "source": [
    "X = df.drop('default',axis=1)\n",
    "y = df['default']\n",
    "print(X)\n",
    "print(y)"
   ]
  },
  {
   "cell_type": "code",
   "execution_count": 21,
   "id": "e4fe9a19",
   "metadata": {},
   "outputs": [
    {
     "data": {
      "text/html": [
       "<div>\n",
       "<style scoped>\n",
       "    .dataframe tbody tr th:only-of-type {\n",
       "        vertical-align: middle;\n",
       "    }\n",
       "\n",
       "    .dataframe tbody tr th {\n",
       "        vertical-align: top;\n",
       "    }\n",
       "\n",
       "    .dataframe thead th {\n",
       "        text-align: right;\n",
       "    }\n",
       "</style>\n",
       "<table border=\"1\" class=\"dataframe\">\n",
       "  <thead>\n",
       "    <tr style=\"text-align: right;\">\n",
       "      <th></th>\n",
       "      <th>default</th>\n",
       "      <th>amount</th>\n",
       "      <th>grade</th>\n",
       "      <th>years</th>\n",
       "      <th>ownership</th>\n",
       "      <th>income</th>\n",
       "      <th>age</th>\n",
       "    </tr>\n",
       "  </thead>\n",
       "  <tbody>\n",
       "    <tr>\n",
       "      <th>0</th>\n",
       "      <td>0</td>\n",
       "      <td>1000</td>\n",
       "      <td>1</td>\n",
       "      <td>2.0</td>\n",
       "      <td>3</td>\n",
       "      <td>19200.0</td>\n",
       "      <td>24</td>\n",
       "    </tr>\n",
       "    <tr>\n",
       "      <th>1</th>\n",
       "      <td>1</td>\n",
       "      <td>6500</td>\n",
       "      <td>0</td>\n",
       "      <td>2.0</td>\n",
       "      <td>0</td>\n",
       "      <td>66000.0</td>\n",
       "      <td>28</td>\n",
       "    </tr>\n",
       "    <tr>\n",
       "      <th>2</th>\n",
       "      <td>0</td>\n",
       "      <td>2400</td>\n",
       "      <td>0</td>\n",
       "      <td>2.0</td>\n",
       "      <td>3</td>\n",
       "      <td>60000.0</td>\n",
       "      <td>36</td>\n",
       "    </tr>\n",
       "    <tr>\n",
       "      <th>3</th>\n",
       "      <td>0</td>\n",
       "      <td>10000</td>\n",
       "      <td>2</td>\n",
       "      <td>3.0</td>\n",
       "      <td>3</td>\n",
       "      <td>62000.0</td>\n",
       "      <td>24</td>\n",
       "    </tr>\n",
       "    <tr>\n",
       "      <th>4</th>\n",
       "      <td>1</td>\n",
       "      <td>4000</td>\n",
       "      <td>2</td>\n",
       "      <td>2.0</td>\n",
       "      <td>3</td>\n",
       "      <td>20000.0</td>\n",
       "      <td>28</td>\n",
       "    </tr>\n",
       "  </tbody>\n",
       "</table>\n",
       "</div>"
      ],
      "text/plain": [
       "   default  amount  grade  years  ownership   income  age\n",
       "0        0    1000      1    2.0          3  19200.0   24\n",
       "1        1    6500      0    2.0          0  66000.0   28\n",
       "2        0    2400      0    2.0          3  60000.0   36\n",
       "3        0   10000      2    3.0          3  62000.0   24\n",
       "4        1    4000      2    2.0          3  20000.0   28"
      ]
     },
     "execution_count": 21,
     "metadata": {},
     "output_type": "execute_result"
    }
   ],
   "source": [
    "df.head()"
   ]
  },
  {
   "cell_type": "code",
   "execution_count": 22,
   "id": "319f83cc",
   "metadata": {},
   "outputs": [],
   "source": [
    "from sklearn.model_selection import train_test_split\n",
    "X_train,X_test,y_train,y_test = train_test_split(X,y,test_size = 0.2,stratify=y,random_state=56)"
   ]
  },
  {
   "cell_type": "code",
   "execution_count": 23,
   "id": "a86bcf16",
   "metadata": {},
   "outputs": [],
   "source": [
    "def correlation(dataset,threshold):\n",
    "  col_corr = set()\n",
    "  corr_matrix = dataset.corr()\n",
    "  for i in range(len(corr_matrix.columns)):\n",
    "    for j in range(i):\n",
    "      if corr_matrix.iloc[i,j] > threshold:\n",
    "        colname = corr_matrix.columns[i]\n",
    "        col_corr.add(colname)\n",
    "  return col_corr"
   ]
  },
  {
   "cell_type": "code",
   "execution_count": 24,
   "id": "82851a70",
   "metadata": {},
   "outputs": [
    {
     "name": "stdout",
     "output_type": "stream",
     "text": [
      "1\n",
      "{'income'}\n"
     ]
    }
   ],
   "source": [
    "corr_features = correlation(X_train,0.2)\n",
    "print(len(set(corr_features)))\n",
    "print(corr_features)"
   ]
  },
  {
   "cell_type": "code",
   "execution_count": 25,
   "id": "44926a5e",
   "metadata": {},
   "outputs": [],
   "source": [
    "X_train_d = X_train.drop(corr_features,axis=1)\n",
    "X_test_d = X_test.drop(corr_features,axis=1)"
   ]
  },
  {
   "cell_type": "code",
   "execution_count": 26,
   "id": "cf053f5a",
   "metadata": {},
   "outputs": [
    {
     "name": "stdout",
     "output_type": "stream",
     "text": [
      "Accuracy: 0.6305385139740968\n"
     ]
    }
   ],
   "source": [
    "from sklearn.naive_bayes import GaussianNB\n",
    "from sklearn.model_selection import train_test_split\n",
    "from sklearn.metrics import accuracy_score\n",
    "\n",
    "clf = GaussianNB()\n",
    "clf.fit(X_train, y_train)\n",
    "y_pred = clf.predict(X_test)\n",
    "accuracy = accuracy_score(y_test, y_pred)\n",
    "print(\"Accuracy:\", accuracy)\n"
   ]
  },
  {
   "cell_type": "code",
   "execution_count": 27,
   "id": "52517357",
   "metadata": {},
   "outputs": [
    {
     "name": "stdout",
     "output_type": "stream",
     "text": [
      "(5865, 6)\n",
      "(1467, 6)\n"
     ]
    }
   ],
   "source": [
    "print(X_train.shape)\n",
    "print(X_test.shape)"
   ]
  },
  {
   "cell_type": "code",
   "execution_count": 28,
   "id": "50045e02",
   "metadata": {},
   "outputs": [
    {
     "name": "stdout",
     "output_type": "stream",
     "text": [
      "training accuracy:  0.9996589940323956\n",
      "testing accuracy:  0.6509884117246081\n"
     ]
    }
   ],
   "source": [
    "from sklearn.ensemble import RandomForestClassifier\n",
    "\n",
    "model = RandomForestClassifier()\n",
    "model.fit(X_train, y_train)\n",
    "pred1 = model.predict(X_train)\n",
    "acc1 = accuracy_score(pred1,y_train)\n",
    "print(\"training accuracy: \",acc1)\n",
    "\n",
    "pred = model.predict(X_test)\n",
    "acc = accuracy_score(pred,y_test)\n",
    "print(\"testing accuracy: \",acc)\n",
    "\n",
    "# print('Precision:', precision_score(y_train,X_train_pred))\n",
    "# print('Recall:', recall_score(y_train,X_train_pred))\n",
    "# print('F1 score:', f1_score(y_train,X_train_pred))\n",
    "# print('ROC AUC score:', roc_auc_score(y_train,X_train_pred))\n",
    "# print(confusion_matrix(y_train, X_train_pred))"
   ]
  },
  {
   "cell_type": "code",
   "execution_count": 29,
   "id": "2ca4e3dc",
   "metadata": {},
   "outputs": [
    {
     "name": "stdout",
     "output_type": "stream",
     "text": [
      "train:  0.8431372549019608\n",
      "test :  0.6646216768916156\n"
     ]
    }
   ],
   "source": [
    "from sklearn.ensemble import RandomForestClassifier\n",
    "model = RandomForestClassifier(criterion ='entropy',max_features='sqrt',n_estimators=200,max_depth = 25,random_state=42,min_samples_leaf=5,min_samples_split=2)\n",
    "\n",
    "model.fit(X_train, y_train)\n",
    "pred1 = model.predict(X_train)\n",
    "acc1 = accuracy_score(pred1,y_train)\n",
    "print(\"train: \",acc1)\n",
    "\n",
    "pred = model.predict(X_test)\n",
    "acc = accuracy_score(pred,y_test)\n",
    "print(\"test : \",acc)\n",
    "\n",
    "\n",
    "x_labels_test = ['Accuracy', 'Precision', 'Recall','F1 score','ROC AUC score']\n",
    "y_values_test = [accuracy_score(pred,y_test),precision_score(pred,y_test), recall_score(pred,y_test), f1_score(pred,y_test),roc_auc_score(pred,y_test)]\n",
    "\n",
    "x_labels_train = ['Accuracy', 'Precision', 'Recall','F1 score','ROC AUC score']\n",
    "y_values_train = [accuracy_score(pred1,y_train),precision_score(pred1,y_train), recall_score(pred1,y_train), f1_score(pred1,y_train),roc_auc_score(pred1,y_train)]\n"
   ]
  },
  {
   "cell_type": "code",
   "execution_count": 30,
   "id": "ab0a7f95",
   "metadata": {},
   "outputs": [
    {
     "name": "stdout",
     "output_type": "stream",
     "text": [
      "0.7493606138107417\n",
      "0.6080436264485344\n"
     ]
    }
   ],
   "source": [
    "from sklearn.tree import DecisionTreeClassifier\n",
    "model3 = DecisionTreeClassifier(max_depth=10)\n",
    "model3.fit(X_train, y_train)\n",
    "X_train_pred3 = model3.predict(X_train)\n",
    "acc3 = accuracy_score(y_train,X_train_pred3)\n",
    "print(acc3)\n",
    "X_test_pred3 = model3.predict(X_test)\n",
    "t_acc3 = accuracy_score(X_test_pred3,y_test)\n",
    "print(t_acc3)\n",
    "\n",
    "x_labels3_test = ['Accuracy', 'Precision', 'Recall','F1 score','ROC AUC score']\n",
    "y_values3_test = [accuracy_score(y_test,X_test_pred3),precision_score(y_test,X_test_pred3), recall_score(y_test,X_test_pred3), f1_score(y_test,X_test_pred3),roc_auc_score(y_test,X_test_pred3)]\n",
    "\n",
    "\n",
    "x_labels3_train = ['Accuracy', 'Precision', 'Recall','F1 score','ROC AUC score']\n",
    "y_values3_train = [accuracy_score(y_train,X_train_pred3),precision_score(y_train,X_train_pred3), recall_score(y_train,X_train_pred3), f1_score(y_train,X_train_pred3),roc_auc_score(y_train,X_train_pred3)]\n"
   ]
  },
  {
   "cell_type": "code",
   "execution_count": 31,
   "id": "c9841ece",
   "metadata": {},
   "outputs": [
    {
     "name": "stdout",
     "output_type": "stream",
     "text": [
      "0.5623188405797102\n",
      "0.5732788002726653\n"
     ]
    }
   ],
   "source": [
    "from sklearn.svm import SVC\n",
    "model2 = SVC()\n",
    "model2.fit(X_train, y_train)\n",
    "X_train_pred2 = model2.predict(X_train)\n",
    "acc2 = accuracy_score(y_train,X_train_pred2)\n",
    "print(acc2)\n",
    "\n",
    "X_test_pred2 = model2.predict(X_test)\n",
    "t_acc2 = accuracy_score(y_test,X_test_pred2)\n",
    "print(t_acc2)\n",
    "\n",
    "x_labels2_test = ['Accuracy', 'Precision', 'Recall','F1 score','ROC AUC score']\n",
    "y_values2_test = [accuracy_score(y_test,X_test_pred2),precision_score(y_test,X_test_pred2), recall_score(y_test,X_test_pred2), f1_score(y_test,X_test_pred2),roc_auc_score(y_test,X_test_pred2)]\n",
    "\n",
    "\n",
    "x_labels2_train = ['Accuracy', 'Precision', 'Recall','F1 score','ROC AUC score']\n",
    "y_values2_train = [accuracy_score(y_train,X_train_pred2),precision_score(y_train,X_train_pred2), recall_score(y_train,X_train_pred2), f1_score(y_train,X_train_pred2),roc_auc_score(y_train,X_train_pred2)]\n"
   ]
  },
  {
   "cell_type": "code",
   "execution_count": 32,
   "id": "fc1d01bd",
   "metadata": {},
   "outputs": [
    {
     "name": "stdout",
     "output_type": "stream",
     "text": [
      "0.5352088661551577\n",
      "0.5480572597137015\n"
     ]
    }
   ],
   "source": [
    "model1 = LogisticRegression()\n",
    "model1.fit(X_train, y_train)\n",
    "X_train_pred1 = model1.predict(X_train)\n",
    "acc1 = accuracy_score(y_train,X_train_pred1)\n",
    "print(acc1)\n",
    "\n",
    "X_test_pred1 = model1.predict(X_test)\n",
    "t_acc1 = accuracy_score(y_test,X_test_pred1)\n",
    "print(t_acc1)\n",
    "\n",
    "x_labels1_test = ['Accuracy', 'Precision', 'Recall','F1 score','ROC AUC score']\n",
    "y_values1_test = [accuracy_score(y_test,X_test_pred1),precision_score(y_test,X_test_pred1), recall_score(y_test,X_test_pred1), f1_score(y_test,X_test_pred1),roc_auc_score(y_test,X_test_pred1)]\n",
    "\n",
    "\n",
    "x_labels1_train = ['Accuracy', 'Precision', 'Recall','F1 score','ROC AUC score']\n",
    "y_values1_train = [accuracy_score(y_train,X_train_pred1),precision_score(y_train,X_train_pred1), recall_score(y_train,X_train_pred1), f1_score(y_train,X_train_pred1),roc_auc_score(y_train,X_train_pred1)]\n"
   ]
  },
  {
   "cell_type": "code",
   "execution_count": 33,
   "id": "2ba9803b",
   "metadata": {},
   "outputs": [
    {
     "data": {
      "image/png": "[encoded data removed]",
      "text/plain": [
       "<Figure size 640x480 with 1 Axes>"
      ]
     },
     "metadata": {},
     "output_type": "display_data"
    }
   ],
   "source": [
    "w=0.2\n",
    "z = ['Accuracy', 'Precision', 'Recall','F1 score','ROC AUC score']\n",
    "bar1 = np.arange(len(z))\n",
    "bar2 = [i+w for i in bar1]\n",
    "bar3 = [i+w for i in bar2]\n",
    "bar4 = [i+w for i in bar3]\n",
    "plt.bar(bar1,y_values_train,w,label = \"randomforest\")\n",
    "plt.bar(bar2,y_values1_train,w,label = \"logistic\")\n",
    "plt.bar(bar3,y_values2_train,w,label = \"svc\")\n",
    "plt.bar(bar4,y_values3_train,w,label = \"decision tree\")\n",
    "plt.xlabel(\"metrics\")\n",
    "plt.ylabel(\"score\")\n",
    "plt.xticks(bar1+w,z)\n",
    "plt.legend()\n",
    "plt.show()"
   ]
  },
  {
   "cell_type": "code",
   "execution_count": 34,
   "id": "b359dda0",
   "metadata": {},
   "outputs": [
    {
     "data": {
      "image/png": "[encoded data removed]",
      "text/plain": [
       "<Figure size 640x480 with 1 Axes>"
      ]
     },
     "metadata": {},
     "output_type": "display_data"
    }
   ],
   "source": [
    "w=0.2\n",
    "z = ['Accuracy', 'Precision', 'Recall','F1 score','ROC AUC score']\n",
    "bar1 = np.arange(len(z))\n",
    "bar2 = [i+w for i in bar1]\n",
    "bar3 = [i+w for i in bar2]\n",
    "bar4 = [i+w for i in bar3]\n",
    "plt.bar(bar1,y_values_test,w,label = \"randomforest\")\n",
    "plt.bar(bar2,y_values1_test,w,label = \"logistic\")\n",
    "plt.bar(bar3,y_values2_test,w,label = \"svc\")\n",
    "plt.bar(bar4,y_values3_test,w,label = \"decision tree\")\n",
    "plt.xlabel(\"metrics\")\n",
    "plt.ylabel(\"score\")\n",
    "plt.xticks(bar1+w,z)\n",
    "plt.legend()\n",
    "plt.show()"
   ]
  },
  {
   "cell_type": "code",
   "execution_count": 35,
   "id": "01c6c4c1",
   "metadata": {},
   "outputs": [
    {
     "data": {
      "image/png": "[encoded data removed]",
      "text/plain": [
       "<Figure size 640x480 with 1 Axes>"
      ]
     },
     "metadata": {},
     "output_type": "display_data"
    },
    {
     "data": {
      "image/png": "[encoded data removed]",
      "text/plain": [
       "<Figure size 640x480 with 2 Axes>"
      ]
     },
     "metadata": {},
     "output_type": "display_data"
    }
   ],
   "source": [
    "import seaborn as sns\n",
    "import matplotlib.pyplot as plt\n",
    "\n",
    "# Check the distribution of the target variable\n",
    "sns.countplot(x='default', data=df)\n",
    "plt.show()\n",
    "\n",
    "# Check the correlation between the features\n",
    "sns.heatmap(df.corr(), annot=True, cmap='coolwarm')\n",
    "plt.show()"
   ]
  },
  {
   "cell_type": "code",
   "execution_count": 36,
   "id": "57cdd0c4",
   "metadata": {},
   "outputs": [],
   "source": [
    "def correlation(dataset,threshold):\n",
    "  col_corr = set()\n",
    "  corr_matrix = dataset.corr()\n",
    "  for i in range(len(corr_matrix.columns)):\n",
    "    for j in range(i):\n",
    "      if corr_matrix.iloc[i,j] > threshold:\n",
    "        colname = corr_matrix.columns[i]\n",
    "        col_corr.add(colname)\n",
    "  return col_corr"
   ]
  },
  {
   "cell_type": "code",
   "execution_count": 37,
   "id": "961fe22e",
   "metadata": {},
   "outputs": [
    {
     "name": "stdout",
     "output_type": "stream",
     "text": [
      "1\n",
      "{'income'}\n"
     ]
    }
   ],
   "source": [
    "corr_features = correlation(X_train,0.2)\n",
    "print(len(set(corr_features)))\n",
    "print(corr_features)"
   ]
  },
  {
   "cell_type": "code",
   "execution_count": 38,
   "id": "ea2132aa",
   "metadata": {},
   "outputs": [],
   "source": [
    "X_train_d = X_train.drop(corr_features,axis=1)\n",
    "X_test_d = X_test.drop(corr_features,axis=1)"
   ]
  },
  {
   "cell_type": "code",
   "execution_count": 39,
   "id": "f005fba0",
   "metadata": {},
   "outputs": [
    {
     "name": "stdout",
     "output_type": "stream",
     "text": [
      "Automatically created module for IPython interactive environment\n"
     ]
    }
   ],
   "source": [
    "print(__doc__)\n",
    "import matplotlib.pyplot as plt\n",
    "from sklearn.model_selection import train_test_split\n",
    "from sklearn.tree import DecisionTreeClassifier"
   ]
  },
  {
   "cell_type": "code",
   "execution_count": 40,
   "id": "4f2f2b92",
   "metadata": {},
   "outputs": [
    {
     "data": {
      "text/html": [
       "<style>#sk-container-id-1 {color: black;}#sk-container-id-1 pre{padding: 0;}#sk-container-id-1 div.sk-toggleable {background-color: white;}#sk-container-id-1 label.sk-toggleable__label {cursor: pointer;display: block;width: 100%;margin-bottom: 0;padding: 0.3em;box-sizing: border-box;text-align: center;}#sk-container-id-1 label.sk-toggleable__label-arrow:before {content: \"▸\";float: left;margin-right: 0.25em;color: #696969;}#sk-container-id-1 label.sk-toggleable__label-arrow:hover:before {color: black;}#sk-container-id-1 div.sk-estimator:hover label.sk-toggleable__label-arrow:before {color: black;}#sk-container-id-1 div.sk-toggleable__content {max-height: 0;max-width: 0;overflow: hidden;text-align: left;background-color: #f0f8ff;}#sk-container-id-1 div.sk-toggleable__content pre {margin: 0.2em;color: black;border-radius: 0.25em;background-color: #f0f8ff;}#sk-container-id-1 input.sk-toggleable__control:checked~div.sk-toggleable__content {max-height: 200px;max-width: 100%;overflow: auto;}#sk-container-id-1 input.sk-toggleable__control:checked~label.sk-toggleable__label-arrow:before {content: \"▾\";}#sk-container-id-1 div.sk-estimator input.sk-toggleable__control:checked~label.sk-toggleable__label {background-color: #d4ebff;}#sk-container-id-1 div.sk-label input.sk-toggleable__control:checked~label.sk-toggleable__label {background-color: #d4ebff;}#sk-container-id-1 input.sk-hidden--visually {border: 0;clip: rect(1px 1px 1px 1px);clip: rect(1px, 1px, 1px, 1px);height: 1px;margin: -1px;overflow: hidden;padding: 0;position: absolute;width: 1px;}#sk-container-id-1 div.sk-estimator {font-family: monospace;background-color: #f0f8ff;border: 1px dotted black;border-radius: 0.25em;box-sizing: border-box;margin-bottom: 0.5em;}#sk-container-id-1 div.sk-estimator:hover {background-color: #d4ebff;}#sk-container-id-1 div.sk-parallel-item::after {content: \"\";width: 100%;border-bottom: 1px solid gray;flex-grow: 1;}#sk-container-id-1 div.sk-label:hover label.sk-toggleable__label {background-color: #d4ebff;}#sk-container-id-1 div.sk-serial::before {content: \"\";position: absolute;border-left: 1px solid gray;box-sizing: border-box;top: 0;bottom: 0;left: 50%;z-index: 0;}#sk-container-id-1 div.sk-serial {display: flex;flex-direction: column;align-items: center;background-color: white;padding-right: 0.2em;padding-left: 0.2em;position: relative;}#sk-container-id-1 div.sk-item {position: relative;z-index: 1;}#sk-container-id-1 div.sk-parallel {display: flex;align-items: stretch;justify-content: center;background-color: white;position: relative;}#sk-container-id-1 div.sk-item::before, #sk-container-id-1 div.sk-parallel-item::before {content: \"\";position: absolute;border-left: 1px solid gray;box-sizing: border-box;top: 0;bottom: 0;left: 50%;z-index: -1;}#sk-container-id-1 div.sk-parallel-item {display: flex;flex-direction: column;z-index: 1;position: relative;background-color: white;}#sk-container-id-1 div.sk-parallel-item:first-child::after {align-self: flex-end;width: 50%;}#sk-container-id-1 div.sk-parallel-item:last-child::after {align-self: flex-start;width: 50%;}#sk-container-id-1 div.sk-parallel-item:only-child::after {width: 0;}#sk-container-id-1 div.sk-dashed-wrapped {border: 1px dashed gray;margin: 0 0.4em 0.5em 0.4em;box-sizing: border-box;padding-bottom: 0.4em;background-color: white;}#sk-container-id-1 div.sk-label label {font-family: monospace;font-weight: bold;display: inline-block;line-height: 1.2em;}#sk-container-id-1 div.sk-label-container {text-align: center;}#sk-container-id-1 div.sk-container {/* jupyter's `normalize.less` sets `[hidden] { display: none; }` but bootstrap.min.css set `[hidden] { display: none !important; }` so we also need the `!important` here to be able to override the default hidden behavior on the sphinx rendered scikit-learn.org. See: https://github.com/scikit-learn/scikit-learn/issues/21755 */display: inline-block !important;position: relative;}#sk-container-id-1 div.sk-text-repr-fallback {display: none;}</style><div id=\"sk-container-id-1\" class=\"sk-top-container\"><div class=\"sk-text-repr-fallback\"><pre>RandomForestClassifier()</pre><b>In a Jupyter environment, please rerun this cell to show the HTML representation or trust the notebook. <br />On GitHub, the HTML representation is unable to render, please try loading this page with nbviewer.org.</b></div><div class=\"sk-container\" hidden><div class=\"sk-item\"><div class=\"sk-estimator sk-toggleable\"><input class=\"sk-toggleable__control sk-hidden--visually\" id=\"sk-estimator-id-1\" type=\"checkbox\" checked><label for=\"sk-estimator-id-1\" class=\"sk-toggleable__label sk-toggleable__label-arrow\">RandomForestClassifier</label><div class=\"sk-toggleable__content\"><pre>RandomForestClassifier()</pre></div></div></div></div></div>"
      ],
      "text/plain": [
       "RandomForestClassifier()"
      ]
     },
     "execution_count": 40,
     "metadata": {},
     "output_type": "execute_result"
    }
   ],
   "source": [
    "rf1 = RandomForestClassifier()\n",
    "rf1.fit(X_train,y_train)"
   ]
  },
  {
   "cell_type": "code",
   "execution_count": 41,
   "id": "eb1bd3e2",
   "metadata": {},
   "outputs": [
    {
     "data": {
      "text/plain": [
       "['credit_history']"
      ]
     },
     "execution_count": 41,
     "metadata": {},
     "output_type": "execute_result"
    }
   ],
   "source": [
    "import joblib\n",
    "joblib.dump(rf1,\"credit_history\")"
   ]
  },
  {
   "cell_type": "code",
   "execution_count": 42,
   "id": "d3644dfd",
   "metadata": {},
   "outputs": [],
   "source": [
    "model = joblib.load(\"credit_history\")"
   ]
  },
  {
   "cell_type": "code",
   "execution_count": 43,
   "id": "0c5fa974",
   "metadata": {},
   "outputs": [
    {
     "name": "stdout",
     "output_type": "stream",
     "text": [
      "[1]\n"
     ]
    },
    {
     "name": "stderr",
     "output_type": "stream",
     "text": [
      "C:\\ProgramData\\anaconda3\\Lib\\site-packages\\sklearn\\base.py:464: UserWarning: X does not have valid feature names, but RandomForestClassifier was fitted with feature names\n",
      "  warnings.warn(\n"
     ]
    }
   ],
   "source": [
    "pred = model.predict([[6500\t,0\t,2.0,\t0,\t66000.0\t,28]])\n",
    "# 6500\t0\t2.0\t0\t66000.0\t28\n",
    "print(pred)"
   ]
  },
  {
   "cell_type": "code",
   "execution_count": 44,
   "id": "491f89da",
   "metadata": {},
   "outputs": [
    {
     "name": "stdout",
     "output_type": "stream",
     "text": [
      "Fraudlant Transaction\n"
     ]
    }
   ],
   "source": [
    "if pred == 0:\n",
    "  print(\"Normal Transaction\")\n",
    "else:\n",
    "  print(\"Fraudlant Transaction\")"
   ]
  },
  {
   "cell_type": "code",
   "execution_count": 45,
   "id": "0510a66f",
   "metadata": {},
   "outputs": [],
   "source": [
    "# from tkinter import *\n",
    "# import tkinter as TK\n",
    "# import joblib\n",
    "\n",
    "# def show_entry_field():\n",
    "#   Amount = float(e1.get())\n",
    "#   Grade = float(e1.get())\n",
    "#   Years = float(e1.get())\n",
    "#   Ownership = float(e1.get())\n",
    "#   Income = float(e1.get())\n",
    "#   Age= float(e1.get())\n",
    "#   model = joblib.load('credit_history')\n",
    "#   y_pred = model.predict(([Amount,Grade,Years,Ownership,Income,Age]))\n",
    "#   list1 = [Amount,Grade,Years,Ownership,Income,Age]\n",
    "#   result = []\n",
    "#   if y_pred==0:\n",
    "#     result.append(\"Normal\")\n",
    "#   else:\n",
    "#     result.append(\"Fraudulent\")\n",
    "\n",
    "#   print(\"Credit Card Fraud Detection System\",result)\n",
    "\n",
    "#   Label(master,text=\"Final Prediction from the model - Credit Card Fruad Detection\")\n",
    "#   Label(master,text=result).grid(row=6)\n",
    "\n",
    "# master = Tk()\n",
    "# master.title(\"Credit Card Fraud Detection System\")\n",
    "\n",
    "# label=Label(master,text=\"Credit Card Fraud Detection System\",bg=\"black\",fg =\"white\",width=30).grid(row=6,column=1)\n",
    "\n",
    "# Label(master,text=\"Enter\").grid(row=1,column=1)\n",
    "# Label(master,text=\"Enter\").grid(row=2,column=1)\n",
    "# Label(master,text=\"Enter\").grid(row=3,column=1)\n",
    "# Label(master,text=\"Enter\").grid(row=4,column=1)\n",
    "# Label(master,text=\"Enter\").grid(row=5,column=1)\n",
    "# Label(master,text=\"Enter\").grid(row=6,column=1)\n",
    "\n",
    "\n",
    "# e1=Entry(master)\n",
    "# e2=Entry(master)\n",
    "# e3=Entry(master)\n",
    "# e4=Entry(master)\n",
    "# e5=Entry(master)\n",
    "# e6=Entry(master)\n",
    "\n",
    "# e1.grid(row=1,column=1)\n",
    "# e2.grid(row=2,column=1)\n",
    "# e3.grid(row=3,column=1)\n",
    "# e4.grid(row=4,column=1)\n",
    "# e5.grid(row=5,column=1)\n",
    "# e6.grid(row=6,column=1)\n",
    "\n",
    "\n",
    "# Button(master,text = 'Predict',command=show_entry_field).grid(row=7,column=1)\n",
    "\n",
    "# mainloop()\n",
    "\n"
   ]
  },
  {
   "cell_type": "code",
   "execution_count": 46,
   "id": "9cd493d2",
   "metadata": {},
   "outputs": [
    {
     "name": "stdout",
     "output_type": "stream",
     "text": [
      "Running on local URL:  http://127.0.0.1:7860\n",
      "\n",
      "To create a public link, set `share=True` in `launch()`.\n"
     ]
    },
    {
     "data": {
      "text/html": [
       "<div><iframe src=\"http://127.0.0.1:7860/\" width=\"100%\" height=\"500\" allow=\"autoplay; camera; microphone; clipboard-read; clipboard-write;\" frameborder=\"0\" allowfullscreen></iframe></div>"
      ],
      "text/plain": [
       "<IPython.core.display.HTML object>"
      ]
     },
     "metadata": {},
     "output_type": "display_data"
    },
    {
     "data": {
      "text/plain": []
     },
     "execution_count": 46,
     "metadata": {},
     "output_type": "execute_result"
    },
    {
     "name": "stderr",
     "output_type": "stream",
     "text": [
      "C:\\ProgramData\\anaconda3\\Lib\\site-packages\\sklearn\\base.py:464: UserWarning: X does not have valid feature names, but RandomForestClassifier was fitted with feature names\n",
      "  warnings.warn(\n"
     ]
    }
   ],
   "source": [
    "import joblib\n",
    "import gradio as gr\n",
    "\n",
    "def credit_card_fraud_detection(amount, grade, years, ownership, income, age):\n",
    "  model = joblib.load('credit_history')\n",
    "  y_pred = model.predict([[amount, grade, years, ownership, income, age]])\n",
    "  if y_pred == 1:\n",
    "    result = \"Fraudulant Transaction\"\n",
    "  else:\n",
    "    result = \"Normal Transaction\"\n",
    "  return result\n",
    "\n",
    "inputs = [gr.Number(label=\"Amount\"),\n",
    "          gr.Number(label=\"Grade\"),\n",
    "          gr.Number(label=\"Years\"),\n",
    "          gr.Number(label=\"Ownership\"),\n",
    "          gr.Number(label=\"Income\"),\n",
    "          gr.Number(label=\"Age\")]\n",
    "\n",
    "output = gr.Textbox(label=\"Prediction\")\n",
    "\n",
    "interface = gr.Interface(fn=credit_card_fraud_detection, inputs=inputs, outputs=output, title=\"Credit Card Fraud Detection System\")\n",
    "interface.launch()\n",
    "\n",
    "# 6500\t0\t2.0\t0\t66000.0\t28"
   ]
  },
  {
   "cell_type": "code",
   "execution_count": null,
   "id": "2d39432f",
   "metadata": {},
   "outputs": [],
   "source": []
  }
 ],
 "metadata": {
  "kernelspec": {
   "display_name": "Python 3 (ipykernel)",
   "language": "python",
   "name": "python3"
  },
  "language_info": {
   "codemirror_mode": {
    "name": "ipython",
    "version": 3
   },
   "file_extension": ".py",
   "mimetype": "text/x-python",
   "name": "python",
   "nbconvert_exporter": "python",
   "pygments_lexer": "ipython3",
   "version": "3.11.5"
  }
 },
 "nbformat": 4,
 "nbformat_minor": 5
}
